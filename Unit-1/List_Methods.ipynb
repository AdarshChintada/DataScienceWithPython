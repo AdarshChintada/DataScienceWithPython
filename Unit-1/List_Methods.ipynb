{
 "cells": [
  {
   "cell_type": "markdown",
   "id": "4896907f",
   "metadata": {},
   "source": [
    "A method is the same thing as a function, except it is “called on” a value."
   ]
  },
  {
   "cell_type": "markdown",
   "id": "47021f36",
   "metadata": {},
   "source": [
    "The append() method adds a single item to the end of the list. This method does not return anything; it modifies the list in place. append() method treats its argument as a single object.\n",
    "<br>List methods are append(),extend(),clear(),copy(),count(),index(),insert(),pop(), remove(), reverse(), sort()"
   ]
  },
  {
   "cell_type": "code",
   "execution_count": 2,
   "id": "11ed0da2",
   "metadata": {},
   "outputs": [
    {
     "data": {
      "text/plain": [
       "['red', 'green', 'blue', 'yellow']"
      ]
     },
     "execution_count": 2,
     "metadata": {},
     "output_type": "execute_result"
    }
   ],
   "source": [
    "colors = ['red', 'green', 'blue']\n",
    "colors.append(\"yellow\")\n",
    "colors"
   ]
  },
  {
   "cell_type": "markdown",
   "id": "0e120461",
   "metadata": {},
   "source": [
    "<b>extend():</b> Use extend() method, if you want to add every item of an iterable to a list.\n",
    "<br>The extend() method extends the list by appending all the items from the iterable to the end of the list. This method does not return anything; it modifies the list in place."
   ]
  },
  {
   "cell_type": "code",
   "execution_count": 3,
   "id": "1c929171",
   "metadata": {},
   "outputs": [
    {
     "data": {
      "text/plain": [
       "['red', 'green', 'blue', 'yellow', 'b', 'l', 'u', 'e']"
      ]
     },
     "execution_count": 3,
     "metadata": {},
     "output_type": "execute_result"
    }
   ],
   "source": [
    "colors.extend('blue')\n",
    "colors"
   ]
  },
  {
   "cell_type": "markdown",
   "id": "3f3cf9d8",
   "metadata": {},
   "source": [
    "<b>clear(): </b> Use clear() method to remove all items from the list. This method does not return anything; it modifies the list in place."
   ]
  },
  {
   "cell_type": "code",
   "execution_count": 5,
   "id": "38d6cecc",
   "metadata": {},
   "outputs": [
    {
     "data": {
      "text/plain": [
       "[]"
      ]
     },
     "execution_count": 5,
     "metadata": {},
     "output_type": "execute_result"
    }
   ],
   "source": [
    "colors.clear()\n",
    "colors"
   ]
  },
  {
   "cell_type": "markdown",
   "id": "0526a9cc",
   "metadata": {},
   "source": [
    "<b> copy() </b> The copy() method returns the Shallow copy of the specified list."
   ]
  },
  {
   "cell_type": "code",
   "execution_count": 6,
   "id": "a19d804a",
   "metadata": {},
   "outputs": [
    {
     "data": {
      "text/plain": [
       "['red', 'green', 'blue']"
      ]
     },
     "execution_count": 6,
     "metadata": {},
     "output_type": "execute_result"
    }
   ],
   "source": [
    "colors = ['red', 'green', 'blue']\n",
    "l = colors.copy()\n",
    "l"
   ]
  },
  {
   "cell_type": "markdown",
   "id": "846afc45",
   "metadata": {},
   "source": [
    "<b> count() </b> Use count() method to find the number of times the specified item appears in the list."
   ]
  },
  {
   "cell_type": "code",
   "execution_count": 7,
   "id": "5506ddca",
   "metadata": {},
   "outputs": [
    {
     "data": {
      "text/plain": [
       "1"
      ]
     },
     "execution_count": 7,
     "metadata": {},
     "output_type": "execute_result"
    }
   ],
   "source": [
    "colors = ['red', 'green', 'blue']\n",
    "colors.count(\"red\")"
   ]
  },
  {
   "cell_type": "markdown",
   "id": "d77a254f",
   "metadata": {},
   "source": [
    "<b>index()</b>\n",
    "The index() method searches for the first occurrence of the given item and returns its index. If specified item is not found, it raises ‘ValueError’ exception.\n",
    "\n",
    "The optional arguments start and end limit the search to a particular subsequence of the list\n",
    "\n",
    "list.index(item,start,end)"
   ]
  },
  {
   "cell_type": "code",
   "execution_count": 8,
   "id": "eeef5b25",
   "metadata": {},
   "outputs": [
    {
     "data": {
      "text/plain": [
       "2"
      ]
     },
     "execution_count": 8,
     "metadata": {},
     "output_type": "execute_result"
    }
   ],
   "source": [
    "colors.index('blue')"
   ]
  },
  {
   "cell_type": "markdown",
   "id": "cc52bc8c",
   "metadata": {},
   "source": [
    "<b>insert()</b><br>\n",
    "Use insert() method to insert a single item at a specified index in a list. Note that other items are shifted to the right.\n",
    "\n",
    "This method does not return anything; it modifies the list in place."
   ]
  },
  {
   "cell_type": "code",
   "execution_count": 11,
   "id": "46febe42",
   "metadata": {},
   "outputs": [
    {
     "data": {
      "text/plain": [
       "['red', 'yellow', 'yellow', 'green', 'blue']"
      ]
     },
     "execution_count": 11,
     "metadata": {},
     "output_type": "execute_result"
    }
   ],
   "source": [
    "colors.insert(1,'yellow')\n",
    "colors"
   ]
  },
  {
   "cell_type": "markdown",
   "id": "34d64d22",
   "metadata": {},
   "source": [
    "<b>pop()</b><br>\n",
    "The pop() method removes a single list item at specified index and returns it. If no index is specified, pop() method removes and returns the last item in the list.\n",
    "<br>When you don’t specify the index on pop(), it assumes the parameter to be -1 and removes the last item."
   ]
  },
  {
   "cell_type": "code",
   "execution_count": 12,
   "id": "82347d42",
   "metadata": {},
   "outputs": [
    {
     "data": {
      "text/plain": [
       "'yellow'"
      ]
     },
     "execution_count": 12,
     "metadata": {},
     "output_type": "execute_result"
    }
   ],
   "source": [
    "colors.pop(1)"
   ]
  },
  {
   "cell_type": "code",
   "execution_count": 13,
   "id": "5dc84a52",
   "metadata": {},
   "outputs": [
    {
     "data": {
      "text/plain": [
       "'blue'"
      ]
     },
     "execution_count": 13,
     "metadata": {},
     "output_type": "execute_result"
    }
   ],
   "source": [
    "colors.pop()"
   ]
  },
  {
   "cell_type": "markdown",
   "id": "c5c18a19",
   "metadata": {},
   "source": [
    "<b>remove()</b><br>\n",
    "Use remove() method to remove a single item from a list.\n",
    "\n",
    "The method searches for the first instance of the given item and removes it. If specified item is not found, it raises ‘ValueError’ exception."
   ]
  },
  {
   "cell_type": "code",
   "execution_count": 14,
   "id": "68634129",
   "metadata": {},
   "outputs": [],
   "source": [
    "colors.remove(\"yellow\")"
   ]
  },
  {
   "cell_type": "markdown",
   "id": "e838eddf",
   "metadata": {},
   "source": [
    "The <b>reverse()</b> method reverses the order of list. This method does not return anything; it modifies the list in place."
   ]
  },
  {
   "cell_type": "code",
   "execution_count": 18,
   "id": "cda59965",
   "metadata": {},
   "outputs": [
    {
     "data": {
      "text/plain": [
       "['blue', 'green', 'red']"
      ]
     },
     "execution_count": 18,
     "metadata": {},
     "output_type": "execute_result"
    }
   ],
   "source": [
    "colors = ['red', 'green', 'blue']\n",
    "colors.reverse()\n",
    "colors"
   ]
  },
  {
   "cell_type": "markdown",
   "id": "0a368300",
   "metadata": {},
   "source": [
    "<b>sort()</b><br>Use sort() method to sort the items of the list.\n",
    "\n",
    "You can optionally specify parameters for sort customization like sorting order and sorting criteria."
   ]
  },
  {
   "cell_type": "markdown",
   "id": "441845a1",
   "metadata": {},
   "source": [
    "## Tuple methods"
   ]
  },
  {
   "cell_type": "markdown",
   "id": "74ee5e0b",
   "metadata": {},
   "source": [
    "Use <b>count()</b> method to find the number of times the given item appears in the tuple.\n",
    "\n",
    "\n",
    "The <b>index()</b> method searches for the first occurrence of the given item and returns its index. If specified item is not found, it raises ‘ValueError’ exception.\n",
    "\n",
    "The optional arguments start and end limit the search to a particular subsequence of the tuple."
   ]
  },
  {
   "cell_type": "code",
   "execution_count": 19,
   "id": "f23d1117",
   "metadata": {},
   "outputs": [
    {
     "data": {
      "text/plain": [
       "0"
      ]
     },
     "execution_count": 19,
     "metadata": {},
     "output_type": "execute_result"
    }
   ],
   "source": [
    "colors.count(\"yellow\")"
   ]
  },
  {
   "cell_type": "code",
   "execution_count": 21,
   "id": "d0977312",
   "metadata": {},
   "outputs": [
    {
     "data": {
      "text/plain": [
       "2"
      ]
     },
     "execution_count": 21,
     "metadata": {},
     "output_type": "execute_result"
    }
   ],
   "source": [
    "colors.index(\"red\")"
   ]
  },
  {
   "cell_type": "code",
   "execution_count": null,
   "id": "00611262",
   "metadata": {},
   "outputs": [],
   "source": []
  }
 ],
 "metadata": {
  "kernelspec": {
   "display_name": "Python 3 (ipykernel)",
   "language": "python",
   "name": "python3"
  },
  "language_info": {
   "codemirror_mode": {
    "name": "ipython",
    "version": 3
   },
   "file_extension": ".py",
   "mimetype": "text/x-python",
   "name": "python",
   "nbconvert_exporter": "python",
   "pygments_lexer": "ipython3",
   "version": "3.9.7"
  }
 },
 "nbformat": 4,
 "nbformat_minor": 5
}
