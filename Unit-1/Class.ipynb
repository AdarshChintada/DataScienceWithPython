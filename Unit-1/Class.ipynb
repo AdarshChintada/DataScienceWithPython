{
 "cells": [
  {
   "cell_type": "markdown",
   "metadata": {},
   "source": [
    " classes and objects:\n",
    "------------------------------\n",
    "=>The purpose of classes concept is that To development Programmer defined data type and To develop real time applications.\n",
    "=>The purpose of Programmer-defined data type is that to store multiple values of same type or different type or both types.\n",
    "=>Programatically, All the class names are treated as Programmer-defined Data Types.\n",
    "=>To develop programmer-defined data type with classes concept, we use a keyword called \"class\".\n",
    "\n",
    "Def. of Class:\n",
    "--------------------\n",
    "=>A class is a collection of data memebrs (Class Level Data members+Instance Data memebrs ) and Methods (Instance Methods, Class Level Methods and Static methods)\n",
    "\n",
    "=>here Data Members of class, which are comiing with memory space as part of object and we can store the data and Methods of a class are available with memory space as part of object and they are used for performing operations.\n",
    "\n",
    "Once we define a class, we never get any memory space for data memebrs and methods. But we can get the memory space for Data memebrs and methods when we create an object.\n",
    "--------------------------------------------------------------------------------------------------------------\n",
    "Syntax for defining a class in python:\n",
    "-------------------------------------------------------\n",
    "class <classname> :\n",
    "        \"\"\"doc String \"\"\"\n",
    "\tClass Level Data members\n",
    "\n",
    "\tdef    instancemethodname(self, list of formal params if any):\n",
    "\t         block of statements--object level operations\n",
    "\t\n",
    "\t@classmethod\n",
    "\tdef   classlevelmethodname(cls,list of formal params if any):\n",
    "\t         block of statements--Class level operations\n",
    "\n",
    "\t@staticmethod\n",
    "\tdef   staticmethodname(list of formal params if any):\n",
    "\t\tblock of statements--utility operations\n",
    "\n",
    "========================================================================\n",
    "   Objects in Python\n",
    "-----------------------------------\n",
    "=> Once we define a class, we never get any memory space for data memebrs and methods. But we can get the memory space for Data memebrs and methods when we create an object.\n",
    "=> To store the data in the mamin memory, First we must create an object. in otherwords, without creating an object, we can't store the data.\n",
    "=> Programatically, To create an object, there must exists class definition otherwise we get     Error\n",
    "---------------------------------------------\n",
    "Syntax for creating an object:\n",
    "---------------------------------------------\n",
    "\n",
    "\tvarname=classname()\n",
    "\n",
    "Explanation:\n",
    "------------------\n",
    "=>varname represents a valid python variable name and it is treated as object name.\n",
    "\tand whose initial content is empty. \n",
    "=>in Python Programming, object data is represented in the form of dictionary.\n",
    "=>To view the object content, we use the following syntax:\n",
    "\n",
    "\t\t\tprint( objname.__dict__)\n",
    "\n",
    "Example:\n",
    "----------------\n",
    "\t\ts1=Student()\n",
    "\t\tprint(s1.__dict__)----------> { }  --->empty\n",
    "============================================================="
   ]
  },
  {
   "cell_type": "markdown",
   "metadata": {},
   "source": [
    "<b>self</b>:\n",
    "In Python, the constructor method is invoked automatically whenever a new object of a class is instantiated, same as constructors in C# or Java. The constructor must have a special name \\__init__() and a special parameter called self.\n",
    "\n",
    "The first parameter of each method in a class must be the self , which refers to the calling object. However, you can give any name to the first parameter, not necessarily self"
   ]
  },
  {
   "cell_type": "markdown",
   "metadata": {},
   "source": [
    "# class Program_1"
   ]
  },
  {
   "cell_type": "code",
   "execution_count": 1,
   "metadata": {},
   "outputs": [
    {
     "name": "stdout",
     "output_type": "stream",
     "text": [
      "He/She is from RGUKT rkv\n",
      "She is from RGUKT Nuz\n",
      "Ramesh is 19 years old\n",
      "Akhila is 20 years old\n"
     ]
    }
   ],
   "source": [
    "class Student:\n",
    "    ## class attributes\n",
    "    clg_type = \"RGUKT\"\n",
    "    def __init__(self,name,age):\n",
    "        self.name = name\n",
    "        self.age = age\n",
    "## instatiate the student class\n",
    "\n",
    "rkv = Student(\"Ramesh\",19)\n",
    "nuz = Student(\"Akhila\",20)\n",
    "\n",
    "## access the class attributes\n",
    "\n",
    "print(\"He/She is from {} rkv\".format(rkv.__class__.clg_type))\n",
    "\n",
    "print(\"She is from {} Nuz\".format(nuz.__class__.clg_type))\n",
    "\n",
    "## access the instance attributes\n",
    "\n",
    "print(\"{} is {} years old\".format(rkv.name,rkv.age))\n",
    "print(\"{} is {} years old\".format(nuz.name,nuz.age))"
   ]
  },
  {
   "cell_type": "markdown",
   "metadata": {},
   "source": [
    "## inheritance\n",
    "\n",
    "Inheritance is one of the distinct feature of OOPs and whose purpose is that is that to Build Re-usable Applications.\n",
    "Def of Inheritance:\n",
    "----------------------------\n",
    "The process of obtaining the data members, methods and constructors (features) from one class into another class is called Inheritance\n",
    "=>The Class which is giving the features (data members, methods and constructors) is called Base (or) Super  (or) parent class\n",
    "=>The Class which is Taking the features (data members, methods and constructors) is called derived (or) Sub  (or) child class\n",
    "\n",
    "Advantages of Inheritance:\n",
    "--------------------------------------------\n",
    "1) Application Development time is Less<br>\n",
    "2) Application Memory space is Less<br>\n",
    "3) Application Execution Time is less<br>\n",
    "4) Application Performnce is Enhanced (Improved)<br>\n",
    "5) Redundecy of the code is minimized <br>\n",
    "Note:- We can achieve the slogan of Python \"Write Once Re-use any where\""
   ]
  },
  {
   "cell_type": "code",
   "execution_count": 4,
   "metadata": {},
   "outputs": [
    {
     "name": "stdout",
     "output_type": "stream",
     "text": [
      "Student Ready !\n",
      "Enter name: Bhuvan\n",
      "Enter Gender: Male\n",
      "Enter Age: 30\n",
      "Enter location : Nuz\n",
      "Nuzvid Student\n",
      "Student details\n",
      "--------------------------------------------------\n",
      "Student Name:Bhuvan\n",
      "Student Gender:Male\n",
      "Student age:30\n",
      "Student Location:Nuz\n",
      "--------------------------------------------------\n"
     ]
    }
   ],
   "source": [
    "class Student():\n",
    "    ## class variables\n",
    "##    name=\"\"\n",
    "##    age=0\n",
    "##    gender=\"\"\n",
    "##    loca=\"\"\n",
    "    def __init__(self,name,gender,Age,loca):\n",
    "        ## instance variables\n",
    "        self.name = name\n",
    "        self.gender = gender\n",
    "        self.age = age\n",
    "        self.loca = loca\n",
    "        \n",
    "    def whoisThis(self):\n",
    "        print(\"Student\")\n",
    "    def get_student(self):\n",
    "        self.name = input(\"Enter name: \")\n",
    "        self.gender = input(\"Enter Gender: \")\n",
    "        self.age = int(input(\"Enter Age: \"))\n",
    "        self.loca = input(\"Enter location : \")\n",
    "    def display_student(self):\n",
    "        print(\"Student details\")\n",
    "        print(\"-\"*50)\n",
    "        print(\"Student Name:{}\".format(self.name))\n",
    "        print(\"Student Gender:{}\".format(self.gender))\n",
    "        print(\"Student age:{}\".format(self.age))\n",
    "        print(\"Student Location:{}\".format(self.loca))\n",
    "        print(\"-\"*50)\n",
    "    \n",
    "class Nuz_Student(Student):\n",
    "    def __init__(self):\n",
    "        print(\"Student Ready !\")\n",
    "    def whoisthis(self):\n",
    "        print(\"Nuzvid Student\")\n",
    "    \n",
    "        \n",
    "stuObj = Nuz_Student()\n",
    "stuObj.get_student()\n",
    "stuObj.whoisthis()\n",
    "stuObj.display_student()"
   ]
  },
  {
   "cell_type": "code",
   "execution_count": null,
   "metadata": {},
   "outputs": [],
   "source": []
  }
 ],
 "metadata": {
  "kernelspec": {
   "display_name": "Python 3",
   "language": "python",
   "name": "python3"
  },
  "language_info": {
   "codemirror_mode": {
    "name": "ipython",
    "version": 3
   },
   "file_extension": ".py",
   "mimetype": "text/x-python",
   "name": "python",
   "nbconvert_exporter": "python",
   "pygments_lexer": "ipython3",
   "version": "3.8.3"
  }
 },
 "nbformat": 4,
 "nbformat_minor": 5
}
