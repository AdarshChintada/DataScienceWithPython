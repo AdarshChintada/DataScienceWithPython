{
 "cells": [
  {
   "cell_type": "markdown",
   "metadata": {},
   "source": [
    "# List"
   ]
  },
  {
   "cell_type": "markdown",
   "metadata": {},
   "source": [
    "<p>A list is a value that contains multiple values in an ordered sequence.\n",
    "A list value looks like this: ['cat', 'bat', 'rat', 'elephant']. a list begins with an opening square bracket and ends with a closing square bracket, []. Values inside the list are also called\n",
    "items. Items are separated with commas\n",
    "    \n",
    "Say you have the list ['cat', 'bat', 'rat', 'elephant'] stored in a variable\n",
    "named spam. The Python code spam[0] would evaluate to 'cat', and spam[1]\n",
    "would evaluate to 'bat', and so on.\n",
    "The integer inside the square brackets\n",
    "that follows the list is called an\n",
    "index. The first value in the list is at\n",
    "index 0, the second value is at index\n",
    "1, the third value is at index 2, and\n",
    "so on.\n",
    "    Indexes can be only integer values, not floats. spam[1.0] will cause a TypeError error</p>\n"
   ]
  },
  {
   "cell_type": "code",
   "execution_count": 3,
   "metadata": {},
   "outputs": [
    {
     "data": {
      "text/plain": [
       "'The cat ate the rat.'"
      ]
     },
     "execution_count": 3,
     "metadata": {},
     "output_type": "execute_result"
    }
   ],
   "source": [
    "spam = ['cat', 'bat', 'rat', 'elephant']\n",
    "'The ' + spam[0] + ' ate the ' + spam[2] + '.'"
   ]
  },
  {
   "cell_type": "markdown",
   "metadata": {},
   "source": [
    "<b>Negative Indexes</b>\n",
    "    While indexes start at 0 and go up, you can also use negative integers for\n",
    "the index. The integer value -1 refers to the last index in a list, the value -2\n",
    "refers to the second-to-last index in a list, and so on"
   ]
  },
  {
   "cell_type": "code",
   "execution_count": 3,
   "metadata": {},
   "outputs": [
    {
     "data": {
      "text/plain": [
       "'The cat eat rat.'"
      ]
     },
     "execution_count": 3,
     "metadata": {},
     "output_type": "execute_result"
    }
   ],
   "source": [
    "spam = ['cat', 'bat', 'rat', 'elephant']\n",
    "'The ' + spam[0] + ' eat ' + spam[-2] + '.'"
   ]
  },
  {
   "cell_type": "markdown",
   "metadata": {},
   "source": [
    "If L is a list, the expression L [ start : stop : step ] returns the portion of the list from index <b>start</b> to index <b>stop</b>, at a step size <b>step</b>."
   ]
  },
  {
   "cell_type": "code",
   "execution_count": 4,
   "metadata": {},
   "outputs": [
    {
     "name": "stdout",
     "output_type": "stream",
     "text": [
      "[2, 3, 4, 5]\n",
      "[2, 5, 8]\n",
      "[1, 2, 3, 4, 5, 6, 7, 8, 9]\n",
      "[3, 4, 5, 6, 7, 8, 9]\n",
      "[3, 5, 7, 9]\n",
      "[4, 5, 6, 7, 8]\n",
      "['g', 'e', 'c']\n",
      "['i', 'h', 'g', 'f', 'e', 'd', 'c', 'b', 'a']\n"
     ]
    }
   ],
   "source": [
    "l=[1,2,3,4,5,6,7,8,9,10]\n",
    "print(l[1:5])\n",
    "print(l[1:9:3])\n",
    "\n",
    "print(l[:-1])\n",
    "\n",
    "print(l[2:-1])\n",
    "\n",
    "print(l[2:-1:2])\n",
    "\n",
    "print(l[-7:-2])\n",
    "#Negative Step Size\n",
    "# Return every 2nd item between position 6 to 1\n",
    "L = ['a', 'b', 'c', 'd', 'e', 'f', 'g', 'h', 'i']\n",
    "print(L[6:1:-2])\n",
    "# Prints ['g', 'e', 'c']\n",
    "#You can reverse a list by omitting both start and stop indices and specifying a step as -1.\n",
    "print(L[::-1])\n"
   ]
  },
  {
   "cell_type": "markdown",
   "metadata": {},
   "source": [
    "<b>Nested List</b><br>\n",
    "A list can contain any sort object, even another list (sublist), which in turn can contain sublists themselves, and so on. This is known as nested list."
   ]
  },
  {
   "cell_type": "code",
   "execution_count": 8,
   "metadata": {},
   "outputs": [
    {
     "name": "stdout",
     "output_type": "stream",
     "text": [
      "1 2 3 4 5 6 7 8 9 "
     ]
    }
   ],
   "source": [
    "L = [[1, 2, 3],[4, 5, 6],[7, 8, 9]]   \n",
    "for item in L:\n",
    "    for num in item:\n",
    "        print(num, end=' ')"
   ]
  },
  {
   "cell_type": "markdown",
   "metadata": {},
   "source": [
    "## List Compression\n",
    "A comprehension is a compact way of creating a Python data structure from iterators. With comprehensions, you can combine loops and conditional tests with a less verbose syntax.\n",
    "It saves you having to write several lines of code, and keeps the readability of your code neat.\n",
    "\n",
    "List comprehension is a way to build a new list by applying an expression to each item in an iterable\n"
   ]
  },
  {
   "cell_type": "code",
   "execution_count": 38,
   "metadata": {},
   "outputs": [
    {
     "name": "stdout",
     "output_type": "stream",
     "text": [
      "[0, 1, 4, 9, 16]\n"
     ]
    }
   ],
   "source": [
    "L = []\n",
    "for x in range(5):\n",
    "    L.append(x**2)\n",
    "print(L)"
   ]
  },
  {
   "attachments": {
    "image.png": {
     "image/png": "[encoded data removed]"
    }
   },
   "cell_type": "markdown",
   "metadata": {},
   "source": [
    "general syntax for a list compression is \n",
    "![image.png](attachment:image.png)"
   ]
  },
  {
   "cell_type": "code",
   "execution_count": 11,
   "metadata": {},
   "outputs": [
    {
     "data": {
      "text/plain": [
       "[1, 4, 9, 16]"
      ]
     },
     "execution_count": 11,
     "metadata": {},
     "output_type": "execute_result"
    }
   ],
   "source": [
    "L = [x**2 for x in range(1,5)]\n",
    "L"
   ]
  },
  {
   "attachments": {
    "image.png": {
     "image/png": "[encoded data removed]"
    }
   },
   "cell_type": "markdown",
   "metadata": {},
   "source": [
    "<b>List Comprehension with if Clause: </b><br>\n",
    "A list comprehension may have an optional associated if clause to filter items out of the result.\n",
    "\n",
    "Iterable’s items are skipped for which the if clause is not true.\n",
    "![image.png](attachment:image.png)"
   ]
  },
  {
   "cell_type": "code",
   "execution_count": 15,
   "metadata": {},
   "outputs": [
    {
     "name": "stdout",
     "output_type": "stream",
     "text": [
      "0 2 4 "
     ]
    }
   ],
   "source": [
    "vec = [-4, -2, 0, 2, 4]\n",
    "for x in vec:\n",
    "    if x >=0:\n",
    "        print(x,end=\" \")"
   ]
  },
  {
   "cell_type": "code",
   "execution_count": 16,
   "metadata": {},
   "outputs": [
    {
     "name": "stdout",
     "output_type": "stream",
     "text": [
      "[0, 2, 4]\n"
     ]
    }
   ],
   "source": [
    "L = [x for x in vec if x >= 0]\n",
    "print(L)"
   ]
  },
  {
   "attachments": {
    "image.png": {
     "image/png": "[encoded data removed]"
    }
   },
   "cell_type": "markdown",
   "metadata": {},
   "source": [
    "<b>Nested List Comprehensions</b>\n",
    "<br>\n",
    "The initial expression in a list comprehension can be any expression, including another list comprehension.\n",
    "![image.png](attachment:image.png)"
   ]
  },
  {
   "cell_type": "code",
   "execution_count": 47,
   "metadata": {},
   "outputs": [
    {
     "name": "stdout",
     "output_type": "stream",
     "text": [
      "[1, 2, 3, 4, 5, 6, 7, 8, 9]\n",
      "[1, 2, 3, 4, 5, 6, 7, 8, 9]\n"
     ]
    }
   ],
   "source": [
    "# With list comprehension\n",
    "vector = [[1, 2, 3], [4, 5, 6], [7, 8, 9]]\n",
    "## in general way\n",
    "for list in vector:\n",
    "    for number in list:\n",
    "        print(number)\n",
    "    \n",
    "L = [number for list in vector for number in list]\n",
    "print(L)\n",
    "# Prints [1, 2, 3, 4, 5, 6, 7, 8, 9]\n",
    "# equivalent to the following plain, old nested loop:\n",
    "vector = [[1, 2, 3], [4, 5, 6], [7, 8, 9]]\n",
    "L = []\n",
    "for list in vector:\n",
    "    for number in list:\n",
    "        L.append(number)\n",
    "print(L)\n",
    "# Prints [1, 2, 3, 4, 5, 6, 7, 8, 9]"
   ]
  },
  {
   "cell_type": "markdown",
   "metadata": {},
   "source": [
    "Here’s another list comprehension that transposes rows and columns."
   ]
  },
  {
   "cell_type": "code",
   "execution_count": 48,
   "metadata": {},
   "outputs": [
    {
     "name": "stdout",
     "output_type": "stream",
     "text": [
      "[[1, 4, 7], [2, 5, 8], [3, 6, 9]]\n"
     ]
    }
   ],
   "source": [
    "matrix = [[1, 2, 3],\n",
    "          [4, 5, 6],\n",
    "          [7, 8, 9]]\n",
    "L = [[row[i] for row in matrix] for i in range(3)]\n",
    "print(L)\n",
    "# Prints [[1, 4, 7], [2, 5, 8], [3, 6, 9]]"
   ]
  },
  {
   "cell_type": "markdown",
   "metadata": {},
   "source": [
    "### List Compression Problems"
   ]
  },
  {
   "cell_type": "markdown",
   "metadata": {},
   "source": [
    "#### 1.Find all of the numbers from 1–1000 that are divisible by 8"
   ]
  },
  {
   "cell_type": "code",
   "execution_count": 28,
   "metadata": {},
   "outputs": [],
   "source": [
    "nums = [i for i in range(1,1001)]\n",
    "Q1_ans = [num for num in nums if num % 8 == 0]\n",
    "#print(Q1_ans)"
   ]
  },
  {
   "cell_type": "markdown",
   "metadata": {},
   "source": [
    "#### 2. Find all of the numbers from 1–1000 that have a 10 in them"
   ]
  },
  {
   "cell_type": "code",
   "execution_count": 29,
   "metadata": {},
   "outputs": [],
   "source": [
    "Q2_ans = [num for num in nums if \"5\" in str(num)]\n",
    "#print(Q2_ans)"
   ]
  },
  {
   "cell_type": "markdown",
   "metadata": {},
   "source": [
    "#### 3. Count the number of spaces in a string"
   ]
  },
  {
   "cell_type": "code",
   "execution_count": 13,
   "metadata": {},
   "outputs": [
    {
     "name": "stdout",
     "output_type": "stream",
     "text": [
      "8\n"
     ]
    }
   ],
   "source": [
    "string = \"Practice Problems to Drill List Comprehension in Your Head.\"\n",
    "Q3_ans = len([char for char in string if char == \" \"])\n",
    "print(Q3_ans)"
   ]
  },
  {
   "cell_type": "markdown",
   "metadata": {},
   "source": [
    "#### 4. Remove all of the vowels in a string"
   ]
  },
  {
   "cell_type": "code",
   "execution_count": 14,
   "metadata": {},
   "outputs": [
    {
     "name": "stdout",
     "output_type": "stream",
     "text": [
      "Prctc Prblms t Drll Lst Cmprhnsn n Yr Hd.\n"
     ]
    }
   ],
   "source": [
    "Q4_ans = \"\".join([char for char in string if char not in [\"a\",\"e\",\"i\",\"o\",\"u\"]])\n",
    "print(Q4_ans)"
   ]
  },
  {
   "cell_type": "markdown",
   "metadata": {},
   "source": [
    "#### 5. Find all of the words in a string that are less than 5 letters"
   ]
  },
  {
   "cell_type": "code",
   "execution_count": 15,
   "metadata": {},
   "outputs": [
    {
     "name": "stdout",
     "output_type": "stream",
     "text": [
      "['to', 'List', 'in', 'Your']\n"
     ]
    }
   ],
   "source": [
    "words = string.split(\" \")\n",
    "Q5_ans = [word for word in words if len(word) < 5]\n",
    "print(Q5_ans)"
   ]
  },
  {
   "cell_type": "markdown",
   "metadata": {},
   "source": [
    "#### 6. Use a dictionary comprehension to count the length of each word in a sentence"
   ]
  },
  {
   "cell_type": "code",
   "execution_count": 16,
   "metadata": {},
   "outputs": [
    {
     "name": "stdout",
     "output_type": "stream",
     "text": [
      "{'Practice': 8, 'Problems': 8, 'to': 2, 'Drill': 5, 'List': 4, 'Comprehension': 13, 'in': 2, 'Your': 4, 'Head.': 5}\n"
     ]
    }
   ],
   "source": [
    "Q6_ans = {word:len(word) for word in words}\n",
    "print(Q6_ans)"
   ]
  },
  {
   "cell_type": "markdown",
   "metadata": {},
   "source": [
    "#### 7. Use a nested list comprehension to find all of the numbers from 1–1000 that are divisible by any single digit besides 1 (2–9)"
   ]
  },
  {
   "cell_type": "code",
   "execution_count": 30,
   "metadata": {},
   "outputs": [],
   "source": [
    "Q7_ans = [num for num in nums if True in [True for divisor in range(2,10) if num % divisor == 0]]\n",
    "#print(Q7_ans)"
   ]
  },
  {
   "cell_type": "markdown",
   "metadata": {},
   "source": [
    "#### 8. For all the numbers 1–1000, use a nested list/dictionary comprehension to find the highest single digit any of the numbers is divisible by"
   ]
  },
  {
   "cell_type": "code",
   "execution_count": 31,
   "metadata": {},
   "outputs": [],
   "source": [
    "Q8_ans = {num:max([divisor for divisor in range(1,10) if num % divisor == 0]) for num in nums}\n",
    "#print(Q8_ans)"
   ]
  },
  {
   "cell_type": "code",
   "execution_count": null,
   "metadata": {},
   "outputs": [],
   "source": []
  }
 ],
 "metadata": {
  "kernelspec": {
   "display_name": "Python 3",
   "language": "python",
   "name": "python3"
  },
  "language_info": {
   "codemirror_mode": {
    "name": "ipython",
    "version": 3
   },
   "file_extension": ".py",
   "mimetype": "text/x-python",
   "name": "python",
   "nbconvert_exporter": "python",
   "pygments_lexer": "ipython3",
   "version": "3.8.3"
  }
 },
 "nbformat": 4,
 "nbformat_minor": 4
}
