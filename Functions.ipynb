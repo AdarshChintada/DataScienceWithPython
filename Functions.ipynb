{
 "cells": [
  {
   "cell_type": "markdown",
   "id": "2c42640f",
   "metadata": {},
   "source": [
    "# Functions"
   ]
  },
  {
   "cell_type": "markdown",
   "id": "96d8776c",
   "metadata": {},
   "source": [
    "Functions become even more useful when we begin to define our own, organizing functionality to be used in multiple places.\n",
    "In Python, functions are defined with the <b>def</b> statement."
   ]
  },
  {
   "cell_type": "code",
   "execution_count": 20,
   "id": "93104647",
   "metadata": {},
   "outputs": [
    {
     "data": {
      "text/plain": [
       "12"
      ]
     },
     "execution_count": 20,
     "metadata": {},
     "output_type": "execute_result"
    }
   ],
   "source": [
    "def calc(a=10,b=2,op=\"+\"):\n",
    "    if op == \"+\":\n",
    "        return a+b\n",
    "    elif op == \"-\":\n",
    "        return a-b\n",
    "    elif op == \"*\":\n",
    "        return a*b\n",
    "    elif op == \"/\":\n",
    "        return a/b\n",
    "    elif op == \"//\":\n",
    "        return a//b\n",
    "    elif op == \"**\":\n",
    "        return a**b\n",
    "    else:\n",
    "        return None\n",
    "    \n",
    "calc(2,3,\"/\")\n",
    "calc()\n"
   ]
  },
  {
   "cell_type": "code",
   "execution_count": 6,
   "id": "37efbb53",
   "metadata": {},
   "outputs": [
    {
     "name": "stdout",
     "output_type": "stream",
     "text": [
      "[1, 1, 2, 3, 5, 8, 13, 21, 34, 55, 89]\n"
     ]
    }
   ],
   "source": [
    "a, b = 0, 1\n",
    "amax = 100\n",
    "L = []\n",
    "while True:\n",
    "    (a, b) = (b, a + b)\n",
    "    if a > amax:\n",
    "        break\n",
    "    L.append(a)\n",
    "print(L)"
   ]
  },
  {
   "cell_type": "code",
   "execution_count": 3,
   "id": "aad6ced6",
   "metadata": {},
   "outputs": [
    {
     "data": {
      "text/plain": [
       "[1, 1, 2, 3, 5, 8, 13, 21, 34, 55]"
      ]
     },
     "execution_count": 3,
     "metadata": {},
     "output_type": "execute_result"
    }
   ],
   "source": [
    "def fibonacci(N):\n",
    "    L = []\n",
    "    a, b = 0, 1\n",
    "    while len(L) < N:\n",
    "        a, b = b, a + b\n",
    "        L.append(a)\n",
    "    return L\n",
    "fibonacci(10)"
   ]
  },
  {
   "cell_type": "markdown",
   "id": "412aedfe",
   "metadata": {},
   "source": [
    "<b>Default argument values :</b> Often when defining a function, there are certain values that we\n",
    "want the function to use most of the time, but we’d also like to give\n",
    "the user some flexibility. In this case, we can use default values for\n",
    "arguments"
   ]
  },
  {
   "cell_type": "code",
   "execution_count": 13,
   "id": "c335773d",
   "metadata": {},
   "outputs": [
    {
     "data": {
      "text/plain": [
       "[1, 1, 2, 3, 5, 8, 13, 21, 34, 55]"
      ]
     },
     "execution_count": 13,
     "metadata": {},
     "output_type": "execute_result"
    }
   ],
   "source": [
    "def fibonacci(N, a=0, b=1):\n",
    "    L = []\n",
    "    while len(L) < N:\n",
    "        a, b = b, a + b\n",
    "        L.append(a)\n",
    "    return L\n",
    "#fibonacci(10)\n",
    "fibonacci(10,0,1)"
   ]
  },
  {
   "cell_type": "markdown",
   "id": "10cd8b18",
   "metadata": {},
   "source": [
    "<p><b>*args and **kwargs:</b> Flexible Arguments\n",
    "Sometimes you might wish to write a function in which you don’t initially know how many arguments the user will pass.\n",
    "In this case, you can use the special form <b>*args </b> and <b> **kwargs </b> to catch all arguments that are passed</p>"
   ]
  },
  {
   "cell_type": "code",
   "execution_count": 25,
   "id": "2cb7e3db",
   "metadata": {},
   "outputs": [
    {
     "name": "stdout",
     "output_type": "stream",
     "text": [
      "args = ()\n",
      "kwargs =  {}\n",
      "args = (1, 2, 3)\n",
      "kwargs =  {'a': 4, 'b': 5}\n",
      "args = ('a',)\n",
      "kwargs =  {'keyword': 2}\n"
     ]
    }
   ],
   "source": [
    "def catch_all(*args, **kwargs):\n",
    "    print(\"args =\", args)\n",
    "    print(\"kwargs = \", kwargs)\n",
    "catch_all()\n",
    "catch_all(1, 2, 3, a=4, b=5)\n",
    "catch_all('a', keyword=2)\n"
   ]
  },
  {
   "cell_type": "markdown",
   "id": "49f76af4",
   "metadata": {},
   "source": [
    "<p>Here it is not the names args and kwargs that are important, but the\n",
    "* characters preceding them. args and kwargs are just the variable\n",
    "names often used by convention, short for “arguments” and “keyword\n",
    "arguments”. The operative difference is the asterisk characters:\n",
    "a single * before a variable means “expand this as a sequence”, while\n",
    "a double ** before a variable means “expand this as a dictionary”. In\n",
    "fact, this syntax can be used not only with the function definition,\n",
    "but with the function call as well!\n",
    "</p>"
   ]
  },
  {
   "cell_type": "code",
   "execution_count": 27,
   "id": "b1b25e9d",
   "metadata": {},
   "outputs": [
    {
     "name": "stdout",
     "output_type": "stream",
     "text": [
      "args = (1, 2, 3)\n",
      "kwargs =  {'pi': 3.14}\n"
     ]
    }
   ],
   "source": [
    "inputs = (1, 2, 3)\n",
    "keywords = {'pi': 3.14}\n",
    "catch_all(*inputs, **keywords)"
   ]
  },
  {
   "cell_type": "markdown",
   "id": "2517de70",
   "metadata": {},
   "source": [
    "<b>Anonymous (lambda) Functions</b>\n",
    "You’ll likely come across another way of defining short, one-off functions with the <b>lambda</b> statement"
   ]
  },
  {
   "cell_type": "code",
   "execution_count": 29,
   "id": "c0c9711b",
   "metadata": {},
   "outputs": [
    {
     "data": {
      "text/plain": [
       "3"
      ]
     },
     "execution_count": 29,
     "metadata": {},
     "output_type": "execute_result"
    }
   ],
   "source": [
    "add = lambda x, y: x + y\n",
    "add(1,2)"
   ]
  },
  {
   "cell_type": "code",
   "execution_count": null,
   "id": "dd237d9e",
   "metadata": {},
   "outputs": [],
   "source": []
  }
 ],
 "metadata": {
  "kernelspec": {
   "display_name": "Python 3 (ipykernel)",
   "language": "python",
   "name": "python3"
  },
  "language_info": {
   "codemirror_mode": {
    "name": "ipython",
    "version": 3
   },
   "file_extension": ".py",
   "mimetype": "text/x-python",
   "name": "python",
   "nbconvert_exporter": "python",
   "pygments_lexer": "ipython3",
   "version": "3.9.7"
  }
 },
 "nbformat": 4,
 "nbformat_minor": 5
}
